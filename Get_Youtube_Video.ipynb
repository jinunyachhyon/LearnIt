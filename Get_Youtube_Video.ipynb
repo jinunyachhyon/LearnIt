{
 "cells": [
  {
   "cell_type": "code",
   "execution_count": 1,
   "metadata": {
    "colab": {
     "base_uri": "https://localhost:8080/"
    },
    "id": "siOkjUbMbMvx",
    "outputId": "17fe50d3-945b-4445-e963-5ae4a26b54d4",
    "scrolled": false
   },
   "outputs": [
    {
     "name": "stderr",
     "output_type": "stream",
     "text": [
      "\n",
      "[notice] A new release of pip available: 23.0 -> 23.0.1\n",
      "[notice] To update, run: python.exe -m pip install --upgrade pip\n",
      "\n",
      "[notice] A new release of pip available: 23.0 -> 23.0.1\n",
      "[notice] To update, run: python.exe -m pip install --upgrade pip\n",
      "\n",
      "[notice] A new release of pip available: 23.0 -> 23.0.1\n",
      "[notice] To update, run: python.exe -m pip install --upgrade pip\n",
      "\n",
      "[notice] A new release of pip available: 23.0 -> 23.0.1\n",
      "[notice] To update, run: python.exe -m pip install --upgrade pip\n"
     ]
    }
   ],
   "source": [
    "!pip install -q openai\n",
    "!pip install -q pytube\n",
    "!pip install -q ffmpeg-python\n",
    "!pip install -q git+https://github.com/openai/whisper.git"
   ]
  },
  {
   "cell_type": "code",
   "execution_count": 3,
   "metadata": {
    "id": "bdN4clwmbW5C"
   },
   "outputs": [],
   "source": [
    "import ffmpeg\n",
    "import requests\n",
    "import os\n",
    "import openai\n",
    "import pytube\n",
    "import whisper\n",
    "from pytube import YouTube"
   ]
  },
  {
   "cell_type": "code",
   "execution_count": 4,
   "metadata": {
    "id": "0Fu_uHQ0bwmR"
   },
   "outputs": [],
   "source": [
    "class YTvideo:\n",
    "\n",
    "  def __init__(self, ytlink):\n",
    "    self.ytlink = ytlink\n",
    "\n",
    "  def download_video(self):\n",
    "    self.yt = YouTube(self.ytlink)\n",
    "    video = self.yt.streams.filter(progressive=True, file_extension='mp4').order_by('resolution').desc().first()\n",
    "    video.download()\n",
    "    \n",
    "  def filename(self):\n",
    "    self.video_filename =  self.yt.title + \".mp4\"\n",
    "    self.audio_filename = self.video_filename.replace(\".mp4\", \".mp3\")\n",
    "    return self.audio_filename\n",
    "\n",
    "  def video_to_audio(self):\n",
    "    stream = ffmpeg.input(self.video_filename)\n",
    "    stream = ffmpeg.output(stream, self.audio_filename)\n",
    "    ffmpeg.run(stream)\n",
    "\n"
   ]
  },
  {
   "cell_type": "code",
   "execution_count": 5,
   "metadata": {
    "colab": {
     "base_uri": "https://localhost:8080/"
    },
    "id": "lGkhMbynkSD0",
    "outputId": "50de0799-2f9b-49b3-fe0c-ccf7df22f38f"
   },
   "outputs": [
    {
     "name": "stderr",
     "output_type": "stream",
     "text": [
      "100%|███████████████████████████████████████| 139M/139M [00:57<00:00, 2.51MiB/s]\n"
     ]
    }
   ],
   "source": [
    "\n",
    "model = whisper.load_model(\"base\")"
   ]
  },
  {
   "cell_type": "code",
   "execution_count": 6,
   "metadata": {
    "id": "4kQCokPCt5pJ"
   },
   "outputs": [],
   "source": [
    "from pprint import pprint"
   ]
  },
  {
   "cell_type": "code",
   "execution_count": 7,
   "metadata": {
    "id": "vqTCxv2mkZDl"
   },
   "outputs": [],
   "source": [
    "class Convertx:\n",
    "\n",
    "  def __init__(self, audio_path):\n",
    "    self.audio_path = audio_path\n",
    "\n",
    "  def transcribe(self):\n",
    "    result = model.transcribe(self.audio_path)\n",
    "    pprint(result['text'])"
   ]
  }
 ],
 "metadata": {
  "colab": {
   "provenance": []
  },
  "kernelspec": {
   "display_name": "Python 3 (ipykernel)",
   "language": "python",
   "name": "python3"
  },
  "language_info": {
   "codemirror_mode": {
    "name": "ipython",
    "version": 3
   },
   "file_extension": ".py",
   "mimetype": "text/x-python",
   "name": "python",
   "nbconvert_exporter": "python",
   "pygments_lexer": "ipython3",
   "version": "3.9.12"
  }
 },
 "nbformat": 4,
 "nbformat_minor": 1
}
